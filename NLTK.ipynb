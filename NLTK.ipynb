{
 "cells": [
  {
   "cell_type": "code",
   "execution_count": 40,
   "metadata": {},
   "outputs": [],
   "source": [
    "import nltk\n",
    "from nltk.tokenize import sent_tokenize, word_tokenize\n",
    "from nltk.probability import FreqDist\n",
    "import matplotlib.pyplot as plt\n",
    "from nltk.corpus import stopwords\n",
    "# Stemming\n",
    "from nltk.stem import PorterStemmer\n",
    "#Lematization\n",
    "from nltk.stem.wordnet import WordNetLemmatizer\n",
    "import pandas as pd\n",
    "from textblob import TextBlob\n",
    "#nltk.download('punkt')\n",
    "#nltk.download('averaged_perceptron_tagger')"
   ]
  },
  {
   "cell_type": "code",
   "execution_count": 7,
   "metadata": {},
   "outputs": [
    {
     "name": "stdout",
     "output_type": "stream",
     "text": [
      "['This is a class review.', 'I found the professor boring and the material useless.', \"You shouldn't take this class.\"]\n",
      "['This', 'is', 'a', 'class', 'review', '.', 'I', 'found', 'the', 'professor', 'boring', 'and', 'the', 'material', 'useless', '.', 'You', 'should', \"n't\", 'take', 'this', 'class', '.']\n"
     ]
    }
   ],
   "source": [
    "#get sentence and word level tokens\n",
    "text=\"This is a class review. I found the professor boring and the material useless. You shouldn't take this class.\"\n",
    "text_sentence = sent_tokenize(text)\n",
    "text_word = word_tokenize(text)\n",
    "print(text_sentence)\n",
    "print(text_word)"
   ]
  },
  {
   "cell_type": "code",
   "execution_count": 17,
   "metadata": {},
   "outputs": [
    {
     "name": "stdout",
     "output_type": "stream",
     "text": [
      "<FreqDist with 19 samples and 23 outcomes>\n",
      "[('.', 3), ('class', 2)]\n"
     ]
    },
    {
     "data": {
      "image/png": "[encoded data removed]",
      "text/plain": [
       "<Figure size 432x288 with 1 Axes>"
      ]
     },
     "metadata": {
      "needs_background": "light"
     },
     "output_type": "display_data"
    }
   ],
   "source": [
    "#plot frequency of words\n",
    "fdist = FreqDist(text_word)\n",
    "print(fdist)\n",
    "print(fdist.most_common(2))\n",
    "fdist.plot(30,cumulative=False)\n",
    "plt.show()"
   ]
  },
  {
   "cell_type": "code",
   "execution_count": 33,
   "metadata": {},
   "outputs": [
    {
     "name": "stdout",
     "output_type": "stream",
     "text": [
      "['This', 'is', 'a', 'class', 'review', '.', 'I', 'found', 'the', 'professor', 'boring', 'and', 'the', 'material', 'useless', '.', 'You', 'should', \"n't\", 'take', 'this', 'class', '.']\n",
      "['This', 'class', 'review', '.', 'I', 'found', 'professor', 'boring', 'material', 'useless', '.', 'You', \"n't\", 'take', 'class', '.']\n"
     ]
    }
   ],
   "source": [
    "#remove stopwords\n",
    "filtered_sent = []\n",
    "stop_words=set(stopwords.words(\"english\"))\n",
    "for w in text_word:\n",
    "    if w not in stop_words:\n",
    "        filtered_sent.append(w)\n",
    "print(text_word)\n",
    "print(filtered_sent)"
   ]
  },
  {
   "cell_type": "code",
   "execution_count": 27,
   "metadata": {},
   "outputs": [
    {
     "name": "stdout",
     "output_type": "stream",
     "text": [
      "['This', 'class', 'review', '.', 'I', 'found', 'professor', 'boring', 'material', 'useless', '.', 'You', \"n't\", 'take', 'class', '.']\n",
      "['thi', 'class', 'review', '.', 'I', 'found', 'professor', 'bore', 'materi', 'useless', '.', 'you', \"n't\", 'take', 'class', '.']\n"
     ]
    }
   ],
   "source": [
    "#get stemmed words\n",
    "ps = PorterStemmer()\n",
    "\n",
    "stemmed_words = []\n",
    "for w in filtered_sent:\n",
    "    stemmed_words.append(ps.stem(w))\n",
    "    \n",
    "print(filtered_sent)\n",
    "print(stemmed_words)"
   ]
  },
  {
   "cell_type": "code",
   "execution_count": 32,
   "metadata": {},
   "outputs": [
    {
     "name": "stdout",
     "output_type": "stream",
     "text": [
      "['This', 'class', 'review', '.', 'I', 'found', 'professor', 'boring', 'material', 'useless', '.', 'You', \"n't\", 'take', 'class', '.']\n",
      "['thi', 'class', 'review', '.', 'I', 'found', 'professor', 'bore', 'materi', 'useless', '.', 'you', \"n't\", 'take', 'class', '.']\n",
      "['This', 'class', 'review', '.', 'I', 'find', 'professor', 'bore', 'material', 'useless', '.', 'You', \"n't\", 'take', 'class', '.']\n"
     ]
    }
   ],
   "source": [
    "#Compare lemmatized to stemmed and filtered\n",
    "lm = WordNetLemmatizer()\n",
    "\n",
    "lemm_words = []\n",
    "for w in filtered_sent:\n",
    "    lemm_words.append(lm.lemmatize(w, \"v\"))\n",
    "  \n",
    "\n",
    "print(filtered_sent)\n",
    "print(stemmed_words)\n",
    "print(lemm_words)"
   ]
  },
  {
   "cell_type": "code",
   "execution_count": 36,
   "metadata": {},
   "outputs": [
    {
     "data": {
      "text/plain": [
       "[('This', 'DT'),\n",
       " ('class', 'NN'),\n",
       " ('review', 'NN'),\n",
       " ('.', '.'),\n",
       " ('I', 'PRP'),\n",
       " ('found', 'VBD'),\n",
       " ('professor', 'RB'),\n",
       " ('boring', 'JJ'),\n",
       " ('material', 'NN'),\n",
       " ('useless', 'NN'),\n",
       " ('.', '.'),\n",
       " ('You', 'PRP'),\n",
       " (\"n't\", 'RB'),\n",
       " ('take', 'VB'),\n",
       " ('class', 'NN'),\n",
       " ('.', '.')]"
      ]
     },
     "execution_count": 36,
     "metadata": {},
     "output_type": "execute_result"
    }
   ],
   "source": [
    "#get POS tags\n",
    "nltk.pos_tag(filtered_sent)"
   ]
  },
  {
   "cell_type": "code",
   "execution_count": 44,
   "metadata": {},
   "outputs": [
    {
     "name": "stdout",
     "output_type": "stream",
     "text": [
      "Sentiment(polarity=-0.75, subjectivity=0.6)\n"
     ]
    }
   ],
   "source": [
    "#Use textblob to get sentiment of strings!\n",
    "blob = TextBlob(text)\n",
    "print(blob.sentiment)"
   ]
  }
 ],
 "metadata": {
  "kernelspec": {
   "display_name": "Python 3",
   "language": "python",
   "name": "python3"
  },
  "language_info": {
   "codemirror_mode": {
    "name": "ipython",
    "version": 3
   },
   "file_extension": ".py",
   "mimetype": "text/x-python",
   "name": "python",
   "nbconvert_exporter": "python",
   "pygments_lexer": "ipython3",
   "version": "3.7.6"
  }
 },
 "nbformat": 4,
 "nbformat_minor": 4
}
